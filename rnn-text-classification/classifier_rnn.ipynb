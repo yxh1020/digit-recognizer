{
  "nbformat": 4,
  "nbformat_minor": 0,
  "metadata": {
    "colab": {
      "name": "classifier_rnn.ipynb",
      "provenance": [],
      "collapsed_sections": []
    },
    "kernelspec": {
      "name": "python3",
      "display_name": "Python 3"
    },
    "accelerator": "GPU"
  },
  "cells": [
    {
      "cell_type": "markdown",
      "metadata": {
        "id": "op6gp9fPFDde",
        "colab_type": "text"
      },
      "source": [
        "## Load modules"
      ]
    },
    {
      "cell_type": "code",
      "metadata": {
        "id": "ZIleMOl9jggG",
        "colab_type": "code",
        "outputId": "ade897d0-cbb4-41bd-8b4e-c821edb214ff",
        "colab": {
          "base_uri": "https://localhost:8080/",
          "height": 96
        }
      },
      "source": [
        "import os\n",
        "import sys\n",
        "import numpy as np\n",
        "import pandas as pd\n",
        "import matplotlib.pyplot as plt\n",
        "from sklearn.metrics import roc_auc_score\n",
        "\n",
        "import tensorflow as tf\n",
        "from tensorflow.keras.utils import plot_model\n",
        "from tensorflow.keras.preprocessing.text import Tokenizer\n",
        "from tensorflow.keras.preprocessing.sequence import pad_sequences\n",
        "from tensorflow.keras.layers import Embedding,Dense, Input, Dropout\n",
        "from tensorflow.keras.layers import LSTM \n",
        "from tensorflow.keras.models import Model\n",
        "\n",
        "print(tf.__version__)"
      ],
      "execution_count": 1,
      "outputs": [
        {
          "output_type": "stream",
          "text": [
            "2.0.0-alpha0\n"
          ],
          "name": "stdout"
        }
      ]
    },
    {
      "cell_type": "markdown",
      "metadata": {
        "id": "VfjyLO-UFKCW",
        "colab_type": "text"
      },
      "source": [
        "## Explore data"
      ]
    },
    {
      "cell_type": "code",
      "metadata": {
        "id": "utODaNdpX0Ov",
        "colab_type": "code",
        "colab": {}
      },
      "source": [
        "# generate new csv file (run once)\n",
        "#df = pd.read_csv('consumer_complaints.csv')   \n",
        "#df = df[pd.notnull(df['consumer_complaint_narrative'])]\n",
        "#df = df[['product', 'consumer_complaint_narrative']]\n",
        "#df.to_csv('consumer_complaint_narrative.csv', index=False)"
      ],
      "execution_count": 0,
      "outputs": []
    },
    {
      "cell_type": "code",
      "metadata": {
        "id": "1oOinEZ8dLPT",
        "colab_type": "code",
        "outputId": "dcd5bddc-322e-4f31-f164-ffd6606b8372",
        "colab": {
          "base_uri": "https://localhost:8080/",
          "height": 246
        }
      },
      "source": [
        "data_all = pd.read_csv('consumer_complaint_narrative.csv')\n",
        "data_all.head()"
      ],
      "execution_count": 3,
      "outputs": [
        {
          "output_type": "execute_result",
          "data": {
            "text/html": [
              "<div>\n",
              "<style scoped>\n",
              "    .dataframe tbody tr th:only-of-type {\n",
              "        vertical-align: middle;\n",
              "    }\n",
              "\n",
              "    .dataframe tbody tr th {\n",
              "        vertical-align: top;\n",
              "    }\n",
              "\n",
              "    .dataframe thead th {\n",
              "        text-align: right;\n",
              "    }\n",
              "</style>\n",
              "<table border=\"1\" class=\"dataframe\">\n",
              "  <thead>\n",
              "    <tr style=\"text-align: right;\">\n",
              "      <th></th>\n",
              "      <th>product</th>\n",
              "      <th>consumer_complaint_narrative</th>\n",
              "    </tr>\n",
              "  </thead>\n",
              "  <tbody>\n",
              "    <tr>\n",
              "      <th>0</th>\n",
              "      <td>Debt collection</td>\n",
              "      <td>XXXX has claimed I owe them {$27.00} for XXXX ...</td>\n",
              "    </tr>\n",
              "    <tr>\n",
              "      <th>1</th>\n",
              "      <td>Consumer Loan</td>\n",
              "      <td>Due to inconsistencies in the amount owed that...</td>\n",
              "    </tr>\n",
              "    <tr>\n",
              "      <th>2</th>\n",
              "      <td>Mortgage</td>\n",
              "      <td>In XX/XX/XXXX my wages that I earned at my job...</td>\n",
              "    </tr>\n",
              "    <tr>\n",
              "      <th>3</th>\n",
              "      <td>Mortgage</td>\n",
              "      <td>I have an open and current mortgage with Chase...</td>\n",
              "    </tr>\n",
              "    <tr>\n",
              "      <th>4</th>\n",
              "      <td>Mortgage</td>\n",
              "      <td>XXXX was submitted XX/XX/XXXX. At the time I s...</td>\n",
              "    </tr>\n",
              "  </tbody>\n",
              "</table>\n",
              "</div>"
            ],
            "text/plain": [
              "           product                       consumer_complaint_narrative\n",
              "0  Debt collection  XXXX has claimed I owe them {$27.00} for XXXX ...\n",
              "1    Consumer Loan  Due to inconsistencies in the amount owed that...\n",
              "2         Mortgage  In XX/XX/XXXX my wages that I earned at my job...\n",
              "3         Mortgage  I have an open and current mortgage with Chase...\n",
              "4         Mortgage  XXXX was submitted XX/XX/XXXX. At the time I s..."
            ]
          },
          "metadata": {
            "tags": []
          },
          "execution_count": 3
        }
      ]
    },
    {
      "cell_type": "code",
      "metadata": {
        "id": "WsKGywrgg1s_",
        "colab_type": "code",
        "outputId": "580a5b6c-d489-4b94-d527-b0cec9ebad13",
        "colab": {
          "base_uri": "https://localhost:8080/",
          "height": 180
        }
      },
      "source": [
        "data_all.info()"
      ],
      "execution_count": 4,
      "outputs": [
        {
          "output_type": "stream",
          "text": [
            "<class 'pandas.core.frame.DataFrame'>\n",
            "RangeIndex: 66806 entries, 0 to 66805\n",
            "Data columns (total 2 columns):\n",
            "product                         66806 non-null object\n",
            "consumer_complaint_narrative    66806 non-null object\n",
            "dtypes: object(2)\n",
            "memory usage: 1.0+ MB\n"
          ],
          "name": "stdout"
        }
      ]
    },
    {
      "cell_type": "code",
      "metadata": {
        "id": "7Fc7J4upg7nv",
        "colab_type": "code",
        "colab": {}
      },
      "source": [
        "n_labels = len(data_all['product'].value_counts())"
      ],
      "execution_count": 0,
      "outputs": []
    },
    {
      "cell_type": "markdown",
      "metadata": {
        "id": "fe5a-TuME32M",
        "colab_type": "text"
      },
      "source": [
        "## Parameters configuration"
      ]
    },
    {
      "cell_type": "code",
      "metadata": {
        "id": "XYMdxEbZk8jC",
        "colab_type": "code",
        "colab": {}
      },
      "source": [
        "MAX_SEQUENCE_LENGTH = 200\n",
        "MAX_VOCAB_SIZE = 20000\n",
        "EMBEDDING_DIM = 100\n",
        "VALIDATION_SPLIT = 0.2\n",
        "BATCH_SIZE = 64\n",
        "EPOCHS = 50"
      ],
      "execution_count": 0,
      "outputs": []
    },
    {
      "cell_type": "markdown",
      "metadata": {
        "id": "v5e4VX-XEgpr",
        "colab_type": "text"
      },
      "source": [
        "## Load pre-trained word vectors"
      ]
    },
    {
      "cell_type": "code",
      "metadata": {
        "id": "FuqGJ6-ZouWm",
        "colab_type": "code",
        "outputId": "34db1561-289d-4ed2-d680-af9e12aef92f",
        "colab": {
          "base_uri": "https://localhost:8080/",
          "height": 116
        }
      },
      "source": [
        "print('Loading word vectors...')\n",
        "word2vec = {}\n",
        "with open(os.path.join('glove.6B.%sd.txt' % EMBEDDING_DIM)) as f:\n",
        "  # is a space-separated text file in the format: word vec[0] vec[1] vec[2] ...\n",
        "  for line in f:\n",
        "    values = line.split()\n",
        "    word = values[0]\n",
        "    vec = np.asarray(values[1:], dtype='float32')\n",
        "    word2vec[word] = vec\n",
        "print('Found %s word vectors.' % len(word2vec))"
      ],
      "execution_count": 7,
      "outputs": [
        {
          "output_type": "stream",
          "text": [
            "Loading word vectors...\n",
            "Found 375988 word vectors.\n"
          ],
          "name": "stdout"
        }
      ]
    },
    {
      "cell_type": "markdown",
      "metadata": {
        "id": "CIfyhORIFW9W",
        "colab_type": "text"
      },
      "source": [
        "## Tokenization, padding"
      ]
    },
    {
      "cell_type": "code",
      "metadata": {
        "id": "rLmcI1tTlT3l",
        "colab_type": "code",
        "colab": {}
      },
      "source": [
        "# prepare text and the labels\n",
        "X = data_all['consumer_complaint_narrative'].values\n",
        "Y = pd.get_dummies(data_all['product']).values"
      ],
      "execution_count": 0,
      "outputs": []
    },
    {
      "cell_type": "code",
      "metadata": {
        "id": "X_cS9CE7l3D7",
        "colab_type": "code",
        "colab": {}
      },
      "source": [
        "# convert the sentences (strings) into integers\n",
        "tokenizer = Tokenizer(num_words=MAX_VOCAB_SIZE)\n",
        "tokenizer.fit_on_texts(X)\n",
        "X = tokenizer.texts_to_sequences(X)"
      ],
      "execution_count": 0,
      "outputs": []
    },
    {
      "cell_type": "code",
      "metadata": {
        "id": "dJv25Dy6h0ly",
        "colab_type": "code",
        "outputId": "383da7fa-d85f-44a3-f347-ea3e2d6450be",
        "colab": {
          "base_uri": "https://localhost:8080/",
          "height": 110
        }
      },
      "source": [
        "print(\"max sequence length:\", max(len(s) for s in X))\n",
        "print(\"min sequence length:\", min(len(s) for s in X))\n",
        "s = sorted(len(s) for s in X)\n",
        "print(\"median sequence length:\", s[len(s) // 2])"
      ],
      "execution_count": 10,
      "outputs": [
        {
          "output_type": "stream",
          "text": [
            "max sequence length: 851\n",
            "min sequence length: 1\n",
            "median sequence length: 136\n"
          ],
          "name": "stdout"
        }
      ]
    },
    {
      "cell_type": "code",
      "metadata": {
        "id": "X2A-naXGkuAC",
        "colab_type": "code",
        "outputId": "6fc0ca97-854e-431b-c59c-801c9aa22783",
        "colab": {
          "base_uri": "https://localhost:8080/",
          "height": 76
        }
      },
      "source": [
        "# get word to integer mapping\n",
        "word2idx = tokenizer.word_index\n",
        "print('Found %s unique tokens.' % len(word2idx))"
      ],
      "execution_count": 11,
      "outputs": [
        {
          "output_type": "stream",
          "text": [
            "Found 55177 unique tokens.\n"
          ],
          "name": "stdout"
        }
      ]
    },
    {
      "cell_type": "code",
      "metadata": {
        "id": "yrfidtopnY-J",
        "colab_type": "code",
        "outputId": "8aa50310-8210-424d-f4bb-6cdd18dcdae0",
        "colab": {
          "base_uri": "https://localhost:8080/",
          "height": 96
        }
      },
      "source": [
        "# pad sequences to get a fixed length for each sequence\n",
        "X = pad_sequences(X, maxlen=MAX_SEQUENCE_LENGTH)\n",
        "print('Shape of data tensor:', X.shape)"
      ],
      "execution_count": 12,
      "outputs": [
        {
          "output_type": "stream",
          "text": [
            "Shape of data tensor: (66806, 200)\n"
          ],
          "name": "stdout"
        }
      ]
    },
    {
      "cell_type": "markdown",
      "metadata": {
        "id": "CnmubjRiFwPf",
        "colab_type": "text"
      },
      "source": [
        "## Prepare embedding layer"
      ]
    },
    {
      "cell_type": "code",
      "metadata": {
        "id": "t-UrMNzbn8dK",
        "colab_type": "code",
        "colab": {}
      },
      "source": [
        "# prepare embedding matrix\n",
        "num_words = min(MAX_VOCAB_SIZE, len(word2idx) + 1)\n",
        "embedding_matrix = np.zeros((num_words, EMBEDDING_DIM))\n",
        "for word, i in word2idx.items():\n",
        "  if i < MAX_VOCAB_SIZE:\n",
        "    embedding_vector = word2vec.get(word)\n",
        "    if embedding_vector is not None:\n",
        "      # words not found in embedding index will be all zeros.\n",
        "      embedding_matrix[i] = embedding_vector"
      ],
      "execution_count": 0,
      "outputs": []
    },
    {
      "cell_type": "code",
      "metadata": {
        "id": "GSQkAR70uowL",
        "colab_type": "code",
        "colab": {}
      },
      "source": [
        "# load pre-trained word embeddings into an Embedding layer\n",
        "# set trainable = False to keep the embeddings fixed\n",
        "embedding_layer = Embedding(\n",
        "  num_words,\n",
        "  EMBEDDING_DIM,\n",
        "  weights=[embedding_matrix],\n",
        "  input_length=MAX_SEQUENCE_LENGTH,\n",
        "  trainable=False\n",
        ")"
      ],
      "execution_count": 0,
      "outputs": []
    },
    {
      "cell_type": "markdown",
      "metadata": {
        "id": "lCj7D04FvJFF",
        "colab_type": "text"
      },
      "source": [
        "## Build the model"
      ]
    },
    {
      "cell_type": "code",
      "metadata": {
        "id": "2BVqYbmXvLym",
        "colab_type": "code",
        "outputId": "4038bc3b-55b7-4afa-cb7a-f52da3db7412",
        "colab": {
          "base_uri": "https://localhost:8080/",
          "height": 92
        }
      },
      "source": [
        "# create an LSTM network \n",
        "ip = Input(shape=(MAX_SEQUENCE_LENGTH,))\n",
        "x = embedding_layer(ip)\n",
        "x = LSTM(100,name='lstm_layer1',return_sequences = True)(x)# \n",
        "x = Dropout(0.25)(x)\n",
        "x = LSTM(100,name='lstm_layer2',return_sequences = True)(x)#\n",
        "x = Dropout(0.25)(x)\n",
        "x = LSTM(100,name='lstm_layer3')(x)# the last LSTM layer, return_sequences = False\n",
        "x = Dropout(0.25)(x)\n",
        "op = Dense(n_labels, activation=\"softmax\")(x)"
      ],
      "execution_count": 15,
      "outputs": [
        {
          "output_type": "stream",
          "text": [
            "WARNING:tensorflow:<tensorflow.python.keras.layers.recurrent.UnifiedLSTM object at 0x7f09f08fbfd0>: Note that this layer is not optimized for performance. Please use tf.keras.layers.CuDNNLSTM for better performance on GPU.\n",
            "WARNING:tensorflow:<tensorflow.python.keras.layers.recurrent.UnifiedLSTM object at 0x7f097ee30898>: Note that this layer is not optimized for performance. Please use tf.keras.layers.CuDNNLSTM for better performance on GPU.\n",
            "WARNING:tensorflow:<tensorflow.python.keras.layers.recurrent.UnifiedLSTM object at 0x7f09cf02b4e0>: Note that this layer is not optimized for performance. Please use tf.keras.layers.CuDNNLSTM for better performance on GPU.\n"
          ],
          "name": "stdout"
        }
      ]
    },
    {
      "cell_type": "code",
      "metadata": {
        "id": "Le-zmeU8xzVQ",
        "colab_type": "code",
        "colab": {}
      },
      "source": [
        "classifier = Model(inputs = ip, outputs = op)\n",
        "classifier.compile(\n",
        "  loss='categorical_crossentropy',\n",
        "  optimizer='adam',\n",
        "  metrics=['accuracy']\n",
        ")"
      ],
      "execution_count": 0,
      "outputs": []
    },
    {
      "cell_type": "code",
      "metadata": {
        "id": "Pi4LgjD46mUz",
        "colab_type": "code",
        "outputId": "5df35e16-382f-48a9-ec1c-f7031d0cc42e",
        "colab": {
          "base_uri": "https://localhost:8080/",
          "height": 1000
        }
      },
      "source": [
        "print(classifier.summary())\n",
        "plot_model(classifier) # to_file='file_name.png'"
      ],
      "execution_count": 17,
      "outputs": [
        {
          "output_type": "stream",
          "text": [
            "Model: \"model\"\n",
            "_________________________________________________________________\n",
            "Layer (type)                 Output Shape              Param #   \n",
            "=================================================================\n",
            "input_1 (InputLayer)         [(None, 200)]             0         \n",
            "_________________________________________________________________\n",
            "embedding (Embedding)        (None, 200, 100)          2000000   \n",
            "_________________________________________________________________\n",
            "lstm_layer1 (UnifiedLSTM)    (None, 200, 100)          80400     \n",
            "_________________________________________________________________\n",
            "dropout (Dropout)            (None, 200, 100)          0         \n",
            "_________________________________________________________________\n",
            "lstm_layer2 (UnifiedLSTM)    (None, 200, 100)          80400     \n",
            "_________________________________________________________________\n",
            "dropout_1 (Dropout)          (None, 200, 100)          0         \n",
            "_________________________________________________________________\n",
            "lstm_layer3 (UnifiedLSTM)    (None, 100)               80400     \n",
            "_________________________________________________________________\n",
            "dropout_2 (Dropout)          (None, 100)               0         \n",
            "_________________________________________________________________\n",
            "dense (Dense)                (None, 11)                1111      \n",
            "=================================================================\n",
            "Total params: 2,242,311\n",
            "Trainable params: 242,311\n",
            "Non-trainable params: 2,000,000\n",
            "_________________________________________________________________\n",
            "None\n"
          ],
          "name": "stdout"
        },
        {
          "output_type": "execute_result",
          "data": {
            "image/png": "[encoded data removed]",
            "text/plain": [
              "<IPython.core.display.Image object>"
            ]
          },
          "metadata": {
            "tags": []
          },
          "execution_count": 17
        }
      ]
    },
    {
      "cell_type": "markdown",
      "metadata": {
        "id": "vwhy6UvXytKc",
        "colab_type": "text"
      },
      "source": [
        "## Training model"
      ]
    },
    {
      "cell_type": "code",
      "metadata": {
        "id": "j-h6fhOWyv8I",
        "colab_type": "code",
        "outputId": "0faa2764-d2b1-4537-97da-f035b502dcdb",
        "colab": {
          "base_uri": "https://localhost:8080/",
          "height": 1000
        }
      },
      "source": [
        "model = classifier.fit(\n",
        "  X,\n",
        "  Y,\n",
        "  batch_size=BATCH_SIZE,\n",
        "  epochs=EPOCHS,\n",
        "  validation_split=VALIDATION_SPLIT\n",
        ")"
      ],
      "execution_count": 18,
      "outputs": [
        {
          "output_type": "stream",
          "text": [
            "Train on 53444 samples, validate on 13362 samples\n",
            "Epoch 1/50\n",
            "53444/53444 [==============================] - 128s 2ms/sample - loss: 1.7215 - accuracy: 0.3829 - val_loss: 1.7286 - val_accuracy: 0.3966\n",
            "Epoch 2/50\n",
            "53444/53444 [==============================] - 117s 2ms/sample - loss: 1.8057 - accuracy: 0.3308 - val_loss: 2.1426 - val_accuracy: 0.2634\n",
            "Epoch 3/50\n",
            "53444/53444 [==============================] - 117s 2ms/sample - loss: 1.7727 - accuracy: 0.3514 - val_loss: 1.9033 - val_accuracy: 0.3074\n",
            "Epoch 4/50\n",
            "53444/53444 [==============================] - 127s 2ms/sample - loss: 1.8107 - accuracy: 0.3279 - val_loss: 1.9869 - val_accuracy: 0.2441\n",
            "Epoch 5/50\n",
            "53444/53444 [==============================] - 120s 2ms/sample - loss: 1.8634 - accuracy: 0.2899 - val_loss: 1.9946 - val_accuracy: 0.2441\n",
            "Epoch 6/50\n",
            "53444/53444 [==============================] - 117s 2ms/sample - loss: 1.8626 - accuracy: 0.2897 - val_loss: 1.9882 - val_accuracy: 0.2443\n",
            "Epoch 7/50\n",
            "53444/53444 [==============================] - 116s 2ms/sample - loss: 1.8705 - accuracy: 0.2783 - val_loss: 2.0078 - val_accuracy: 0.2263\n",
            "Epoch 8/50\n",
            "53444/53444 [==============================] - 120s 2ms/sample - loss: 1.8744 - accuracy: 0.2722 - val_loss: 2.0024 - val_accuracy: 0.2263\n",
            "Epoch 9/50\n",
            "53444/53444 [==============================] - 116s 2ms/sample - loss: 1.8737 - accuracy: 0.2721 - val_loss: 1.9997 - val_accuracy: 0.2263\n",
            "Epoch 10/50\n",
            "53444/53444 [==============================] - 116s 2ms/sample - loss: 1.8736 - accuracy: 0.2722 - val_loss: 2.0025 - val_accuracy: 0.2263\n",
            "Epoch 11/50\n",
            "53444/53444 [==============================] - 115s 2ms/sample - loss: 1.8732 - accuracy: 0.2720 - val_loss: 1.9961 - val_accuracy: 0.2263\n",
            "Epoch 12/50\n",
            "53444/53444 [==============================] - 113s 2ms/sample - loss: 1.8734 - accuracy: 0.2723 - val_loss: 1.9973 - val_accuracy: 0.2263\n",
            "Epoch 13/50\n",
            "53444/53444 [==============================] - 118s 2ms/sample - loss: 1.8727 - accuracy: 0.2721 - val_loss: 1.9999 - val_accuracy: 0.2264\n",
            "Epoch 14/50\n",
            "53444/53444 [==============================] - 117s 2ms/sample - loss: 1.8727 - accuracy: 0.2721 - val_loss: 1.9997 - val_accuracy: 0.2264\n",
            "Epoch 15/50\n",
            "53444/53444 [==============================] - 117s 2ms/sample - loss: 1.8726 - accuracy: 0.2722 - val_loss: 1.9984 - val_accuracy: 0.2264\n",
            "Epoch 16/50\n",
            "53444/53444 [==============================] - 115s 2ms/sample - loss: 1.8721 - accuracy: 0.2723 - val_loss: 2.0047 - val_accuracy: 0.2264\n",
            "Epoch 17/50\n",
            "53444/53444 [==============================] - 112s 2ms/sample - loss: 1.8723 - accuracy: 0.2723 - val_loss: 1.9991 - val_accuracy: 0.2264\n",
            "Epoch 18/50\n",
            "53444/53444 [==============================] - 118s 2ms/sample - loss: 1.8722 - accuracy: 0.2723 - val_loss: 1.9996 - val_accuracy: 0.2264\n",
            "Epoch 19/50\n",
            "53444/53444 [==============================] - 118s 2ms/sample - loss: 1.8729 - accuracy: 0.2722 - val_loss: 1.9984 - val_accuracy: 0.2264\n",
            "Epoch 20/50\n",
            "53444/53444 [==============================] - 122s 2ms/sample - loss: 1.8720 - accuracy: 0.2726 - val_loss: 1.9997 - val_accuracy: 0.2258\n",
            "Epoch 21/50\n",
            "53444/53444 [==============================] - 119s 2ms/sample - loss: 1.7882 - accuracy: 0.3379 - val_loss: 1.7669 - val_accuracy: 0.3931\n",
            "Epoch 22/50\n",
            "53444/53444 [==============================] - 117s 2ms/sample - loss: 1.6183 - accuracy: 0.4251 - val_loss: 1.6856 - val_accuracy: 0.4089\n",
            "Epoch 23/50\n",
            "53444/53444 [==============================] - 115s 2ms/sample - loss: 1.5729 - accuracy: 0.4379 - val_loss: 1.6573 - val_accuracy: 0.4182\n",
            "Epoch 24/50\n",
            "53444/53444 [==============================] - 116s 2ms/sample - loss: 1.5443 - accuracy: 0.4513 - val_loss: 1.6739 - val_accuracy: 0.4262\n",
            "Epoch 25/50\n",
            "53444/53444 [==============================] - 121s 2ms/sample - loss: 1.5227 - accuracy: 0.4607 - val_loss: 1.5974 - val_accuracy: 0.4379\n",
            "Epoch 26/50\n",
            "53444/53444 [==============================] - 116s 2ms/sample - loss: 1.4898 - accuracy: 0.4723 - val_loss: 1.6200 - val_accuracy: 0.4346\n",
            "Epoch 27/50\n",
            "53444/53444 [==============================] - 116s 2ms/sample - loss: 1.4748 - accuracy: 0.4776 - val_loss: 1.5670 - val_accuracy: 0.4478\n",
            "Epoch 28/50\n",
            "53444/53444 [==============================] - 122s 2ms/sample - loss: 1.4391 - accuracy: 0.4926 - val_loss: 1.5380 - val_accuracy: 0.4564\n",
            "Epoch 29/50\n",
            "53444/53444 [==============================] - 125s 2ms/sample - loss: 1.3909 - accuracy: 0.5169 - val_loss: 1.5002 - val_accuracy: 0.4888\n",
            "Epoch 30/50\n",
            "53444/53444 [==============================] - 117s 2ms/sample - loss: 1.3389 - accuracy: 0.5414 - val_loss: 1.3819 - val_accuracy: 0.5251\n",
            "Epoch 31/50\n",
            "53444/53444 [==============================] - 117s 2ms/sample - loss: 1.2622 - accuracy: 0.5722 - val_loss: 1.2719 - val_accuracy: 0.5885\n",
            "Epoch 32/50\n",
            "53444/53444 [==============================] - 115s 2ms/sample - loss: 1.1863 - accuracy: 0.6079 - val_loss: 1.2802 - val_accuracy: 0.5761\n",
            "Epoch 33/50\n",
            "53444/53444 [==============================] - 114s 2ms/sample - loss: 1.1298 - accuracy: 0.6291 - val_loss: 1.1595 - val_accuracy: 0.6216\n",
            "Epoch 34/50\n",
            "53444/53444 [==============================] - 112s 2ms/sample - loss: 1.0785 - accuracy: 0.6446 - val_loss: 1.1264 - val_accuracy: 0.6367\n",
            "Epoch 35/50\n",
            "53444/53444 [==============================] - 112s 2ms/sample - loss: 1.0266 - accuracy: 0.6640 - val_loss: 1.0915 - val_accuracy: 0.6411\n",
            "Epoch 36/50\n",
            "53444/53444 [==============================] - 115s 2ms/sample - loss: 0.9856 - accuracy: 0.6762 - val_loss: 1.0506 - val_accuracy: 0.6597\n",
            "Epoch 37/50\n",
            "53444/53444 [==============================] - 114s 2ms/sample - loss: 0.9682 - accuracy: 0.6849 - val_loss: 1.0409 - val_accuracy: 0.6587\n",
            "Epoch 38/50\n",
            "53444/53444 [==============================] - 120s 2ms/sample - loss: 0.9385 - accuracy: 0.6942 - val_loss: 1.0034 - val_accuracy: 0.6737\n",
            "Epoch 39/50\n",
            "53444/53444 [==============================] - 122s 2ms/sample - loss: 0.9174 - accuracy: 0.7004 - val_loss: 1.0170 - val_accuracy: 0.6593\n",
            "Epoch 40/50\n",
            "53444/53444 [==============================] - 117s 2ms/sample - loss: 0.8967 - accuracy: 0.7067 - val_loss: 0.9803 - val_accuracy: 0.6754\n",
            "Epoch 41/50\n",
            "53444/53444 [==============================] - 119s 2ms/sample - loss: 0.8746 - accuracy: 0.7158 - val_loss: 0.9671 - val_accuracy: 0.6845\n",
            "Epoch 42/50\n",
            "53444/53444 [==============================] - 112s 2ms/sample - loss: 0.8625 - accuracy: 0.7205 - val_loss: 0.9491 - val_accuracy: 0.6881\n",
            "Epoch 43/50\n",
            "53444/53444 [==============================] - 111s 2ms/sample - loss: 0.8455 - accuracy: 0.7247 - val_loss: 0.9628 - val_accuracy: 0.6875\n",
            "Epoch 44/50\n",
            "53444/53444 [==============================] - 112s 2ms/sample - loss: 0.8321 - accuracy: 0.7302 - val_loss: 0.9343 - val_accuracy: 0.6927\n",
            "Epoch 45/50\n",
            "53444/53444 [==============================] - 113s 2ms/sample - loss: 0.8156 - accuracy: 0.7347 - val_loss: 0.9172 - val_accuracy: 0.6993\n",
            "Epoch 46/50\n",
            "53444/53444 [==============================] - 120s 2ms/sample - loss: 0.7994 - accuracy: 0.7401 - val_loss: 0.9112 - val_accuracy: 0.7040\n",
            "Epoch 47/50\n",
            "53444/53444 [==============================] - 121s 2ms/sample - loss: 0.7897 - accuracy: 0.7442 - val_loss: 0.9110 - val_accuracy: 0.7024\n",
            "Epoch 48/50\n",
            "53444/53444 [==============================] - 117s 2ms/sample - loss: 0.7791 - accuracy: 0.7454 - val_loss: 0.9098 - val_accuracy: 0.7003\n",
            "Epoch 49/50\n",
            "53444/53444 [==============================] - 117s 2ms/sample - loss: 0.7687 - accuracy: 0.7503 - val_loss: 0.8723 - val_accuracy: 0.7149\n",
            "Epoch 50/50\n",
            "53444/53444 [==============================] - 118s 2ms/sample - loss: 0.7553 - accuracy: 0.7534 - val_loss: 0.8606 - val_accuracy: 0.7197\n"
          ],
          "name": "stdout"
        }
      ]
    },
    {
      "cell_type": "markdown",
      "metadata": {
        "id": "x4cKsAo3wLGX",
        "colab_type": "text"
      },
      "source": [
        "## Evaluation"
      ]
    },
    {
      "cell_type": "code",
      "metadata": {
        "id": "EWRh7pf0RW5b",
        "colab_type": "code",
        "colab": {
          "base_uri": "https://localhost:8080/",
          "height": 318
        },
        "outputId": "29776b16-36e5-4df5-bbea-99d770c9c535"
      },
      "source": [
        "# Plot train and validation curves\n",
        "fig = plt.figure()\n",
        "plt.subplot(2,1,1)\n",
        "plt.plot(model.history['accuracy'])\n",
        "plt.plot(model.history['val_accuracy'])\n",
        "plt.title('model accuracy')\n",
        "plt.ylabel('accuracy')\n",
        "plt.xlabel('epoch')\n",
        "plt.legend(['train', 'test'], loc='lower right')\n",
        "plt.subplot(2,1,2)\n",
        "plt.plot(model.history['loss'])\n",
        "plt.plot(model.history['val_loss'])\n",
        "plt.title('model loss')\n",
        "plt.ylabel('loss')\n",
        "plt.xlabel('epoch')\n",
        "plt.legend(['train', 'test'], loc='upper right')\n",
        "plt.tight_layout()\n"
      ],
      "execution_count": 19,
      "outputs": [
        {
          "output_type": "display_data",
          "data": {
            "image/png": "[encoded data removed]",
            "text/plain": [
              "<Figure size 432x288 with 2 Axes>"
            ]
          },
          "metadata": {
            "tags": []
          }
        }
      ]
    },
    {
      "cell_type": "code",
      "metadata": {
        "id": "7g4gA9krzQS4",
        "colab_type": "code",
        "colab": {
          "base_uri": "https://localhost:8080/",
          "height": 76
        },
        "outputId": "435fd664-ef7b-4dec-cdd8-28b56ed4b30b"
      },
      "source": [
        "# plot AUC over each label\n",
        "Y_predict = classifier.predict(X)\n",
        "auc = roc_auc_score(Y, Y_predict)\n",
        "aucs = []\n",
        "for j in range(n_labels):\n",
        "    auc = roc_auc_score(Y[:,j], Y_predict[:,j])\n",
        "    aucs.append(auc)\n",
        "print(np.mean(aucs))"
      ],
      "execution_count": 20,
      "outputs": [
        {
          "output_type": "stream",
          "text": [
            "0.939239321548479\n"
          ],
          "name": "stdout"
        }
      ]
    }
  ]
}